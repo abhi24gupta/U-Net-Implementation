{
 "cells": [
  {
   "cell_type": "code",
   "execution_count": null,
   "metadata": {
    "colab": {
     "base_uri": "https://localhost:8080/",
     "height": 54
    },
    "colab_type": "code",
    "id": "uAD3AtHwh758",
    "outputId": "ed386704-bf12-48ef-eefe-b413d0f543a0"
   },
   "outputs": [],
   "source": [
    "import tensorflow as tf\n",
    "print(tf.__version__)\n",
    "print(\"Num GPUs Available: \", len(tf.config.experimental.list_physical_devices('GPU')))\n",
    "import numpy as np\n",
    "from tensorflow.keras.layers import Conv2D,UpSampling2D,ReLU,MaxPool2D,Input,concatenate\n",
    "import os\n",
    "import numpy as np\n",
    "import pydot\n",
    "import graphviz\n",
    "import pydotplus\n",
    "from tensorflow.keras.models import Model\n",
    "from tensorflow.keras.preprocessing.image import ImageDataGenerator\n",
    "from tensorflow.keras.utils import plot_model\n",
    "import matplotlib.pyplot as plt\n",
    "\n",
    "import skimage\n",
    "from skimage.transform import resize\n",
    "from skimage.io import imread"
   ]
  },
  {
   "cell_type": "code",
   "execution_count": null,
   "metadata": {
    "colab": {},
    "colab_type": "code",
    "id": "NZqK0hnbiNz8"
   },
   "outputs": [],
   "source": [
    "!pip install tqdm\n",
    "!sudo apt install subversion \n",
    "!svn checkout https://github.com/dixitaniket/datasets_projects/trunk/data-science-bowl-2018"
   ]
  },
  {
   "cell_type": "code",
   "execution_count": null,
   "metadata": {
    "colab": {},
    "colab_type": "code",
    "id": "ORPKmKnqiet3"
   },
   "outputs": [],
   "source": [
    "##loading the data\n",
    "from tqdm import tqdm"
   ]
  },
  {
   "cell_type": "code",
   "execution_count": null,
   "metadata": {
    "colab": {
     "base_uri": "https://localhost:8080/",
     "height": 54
    },
    "colab_type": "code",
    "id": "Zq_MSQ9gnYYg",
    "outputId": "9c50b368-0d71-4385-b968-cbaebf48081b"
   },
   "outputs": [],
   "source": [
    "train_data=\"./data-science-bowl-2018/stage1_train/\"\n",
    "\n",
    "#\n",
    "data_train_=[]\n",
    "data_labels_=[]\n",
    "# loading the images of the neuclie\n",
    "for i in tqdm(os.listdir(train_data)):\n",
    "    for k in os.listdir(os.path.join(train_data,i+\"/images/\")):\n",
    "        data_train_.append(resize(imread(os.path.join(os.path.join(train_data,i+\"/images/\"),k),as_gray=True),output_shape=(256,256,1)))\n",
    "    holder=np.zeros(data_train_[0].shape)\n",
    "    for k in os.listdir(os.path.join(train_data,i+\"/masks/\")):\n",
    "        holder=np.add(holder,resize(imread(os.path.join(os.path.join(train_data,i+\"/masks/\"),k),as_gray=True),output_shape=(256,256,1)))\n",
    "    data_labels_.append(holder)\n",
    "len(data_labels_)\n",
    "len(data_train_)\n"
   ]
  },
  {
   "cell_type": "code",
   "execution_count": null,
   "metadata": {
    "colab": {
     "base_uri": "https://localhost:8080/",
     "height": 287
    },
    "colab_type": "code",
    "id": "7u6obimXna__",
    "outputId": "4cf9fb52-3780-48c6-990f-45b14f84e7a3"
   },
   "outputs": [],
   "source": [
    "# visualising the dataset\n",
    "plt.imshow(np.resize(data_train_[0],(256,256)))"
   ]
  },
  {
   "cell_type": "code",
   "execution_count": null,
   "metadata": {
    "colab": {
     "base_uri": "https://localhost:8080/",
     "height": 287
    },
    "colab_type": "code",
    "id": "VQAqsfHjpM4P",
    "outputId": "5a5d8b42-69f7-41be-b064-7c808ceaf944"
   },
   "outputs": [],
   "source": [
    "# visulating the masks for the image\n",
    "plt.imshow(np.resize(data_labels_[0],(256,256)))"
   ]
  },
  {
   "cell_type": "code",
   "execution_count": null,
   "metadata": {
    "colab": {},
    "colab_type": "code",
    "id": "kx2FIRzCpgn4"
   },
   "outputs": [],
   "source": [
    "data_train_=np.array(data_train_)\n",
    "data_labels_=np.array(data_labels_)"
   ]
  },
  {
   "cell_type": "code",
   "execution_count": null,
   "metadata": {
    "colab": {
     "base_uri": "https://localhost:8080/",
     "height": 35
    },
    "colab_type": "code",
    "id": "AOeycYk-plqy",
    "outputId": "1566d142-032b-47de-bfd2-e62b7ca6f92b"
   },
   "outputs": [],
   "source": [
    "data_train_.shape"
   ]
  },
  {
   "cell_type": "code",
   "execution_count": null,
   "metadata": {
    "colab": {
     "base_uri": "https://localhost:8080/",
     "height": 35
    },
    "colab_type": "code",
    "id": "D9HDiZVkpnNS",
    "outputId": "692e9248-e0d8-4cb8-a3a7-3319cebed363"
   },
   "outputs": [],
   "source": [
    "data_labels_.shape"
   ]
  },
  {
   "cell_type": "code",
   "execution_count": null,
   "metadata": {
    "colab": {},
    "colab_type": "code",
    "id": "J-cWLPmBppia"
   },
   "outputs": [],
   "source": [
    "# the unet model\n",
    "def model_architecture(input_shape):\n",
    "    input_layer=Input(input_shape)\n",
    "    conv1=Conv2D(64,(3,3),activation=\"relu\",padding=\"same\")(input_layer)\n",
    "    conv1=Conv2D(64,(3,3),activation=\"relu\",padding=\"same\")(conv1)\n",
    "\n",
    "    conv2=MaxPool2D(strides=(2,2))(conv1)\n",
    "    conv2 = Conv2D(128, (3, 3), activation=\"relu\",padding=\"same\")(conv2)\n",
    "    conv2 = Conv2D(128, (3, 3), activation=\"relu\",padding=\"same\")(conv2)\n",
    "\n",
    "    conv3=MaxPool2D(strides=(2,2))(conv2)\n",
    "    conv3=Conv2D(256,(3,3),activation=\"relu\",padding=\"same\")(conv3)\n",
    "    conv3=Conv2D(256,(3,3),activation=\"relu\",padding=\"same\")(conv3)\n",
    "\n",
    "    conv4 = MaxPool2D(strides=(2, 2))(conv3)\n",
    "    conv4 = Conv2D(512, (3, 3), activation=\"relu\",padding=\"same\")(conv4)\n",
    "    conv4 = Conv2D(512, (3, 3), activation=\"relu\",padding=\"same\")(conv4)\n",
    "    print(conv4.shape)\n",
    "    conv5 = MaxPool2D(strides=(2, 2))(conv4)\n",
    "    conv5 = Conv2D(1024, (3, 3), activation=\"relu\",padding=\"same\")(conv5)\n",
    "    conv5 = Conv2D(1024, (3, 3), activation=\"relu\",padding=\"same\")(conv5)\n",
    "\n",
    "\n",
    "    layers=UpSampling2D((2,2))(conv5)\n",
    "    layers=Conv2D(512,(1,1),activation=\"relu\",padding=\"same\")(layers)\n",
    "    concatenate1 = concatenate([conv4,layers], axis=3)\n",
    "    layers = Conv2D(512, (3, 3), activation=\"relu\",padding=\"same\")(concatenate1)\n",
    "    conv6 = Conv2D(512, (3, 3), activation=\"relu\",padding=\"same\")(layers)\n",
    "    print(conv6.shape)\n",
    "\n",
    "    layers=UpSampling2D((2,2))(conv6)\n",
    "    layers=Conv2D(256,(1,1),activation=\"relu\",padding=\"same\")(layers)\n",
    "    concatenate2=concatenate([conv3,layers],axis=3)\n",
    "    layers = Conv2D(256, (3, 3), activation=\"relu\",padding=\"same\")(concatenate2)\n",
    "    conv7 = Conv2D(256, (3, 3), activation=\"relu\",padding=\"same\")(layers)\n",
    "    # print(layers.shape)\n",
    "\n",
    "    layers=UpSampling2D((2,2))(conv7)\n",
    "    layers = Conv2D(128, (1, 1), activation=\"relu\",padding=\"same\")(layers)\n",
    "    concatenate3=concatenate([conv2,layers],axis=3)\n",
    "    layers = Conv2D(128, (3, 3), activation=\"relu\",padding=\"same\")(concatenate3)\n",
    "    layers = Conv2D(128, (3, 3), activation=\"relu\",padding=\"same\")(layers)\n",
    "    # print(layers.shape)\n",
    "\n",
    "    layers=UpSampling2D((2,2))(layers)\n",
    "    layers = Conv2D(64, (1, 1), activation=\"relu\",padding=\"same\")(layers)\n",
    "    concatenate4=concatenate([conv1,layers],axis=3)\n",
    "    layers = Conv2D(64, (3, 3), activation=\"relu\",padding=\"same\")(concatenate4)\n",
    "    layers = Conv2D(64, (3, 3), activation=\"relu\",padding=\"same\")(layers)\n",
    "    # print(layers.shape)\n",
    "    layers=Conv2D(2,(3,3),activation=\"relu\",padding='same')(layers)\n",
    "    output_layer = Conv2D(1, (1, 1), activation=\"sigmoid\",padding=\"same\")(layers)\n",
    "    # print(layers.shape)\n",
    "\n",
    "    model=Model(input_layer,output_layer)\n",
    "    model.compile(optimizer='sgd',loss=\"binary_crossentropy\",metrics=\"accuracy\")\n",
    "    return model\n"
   ]
  },
  {
   "cell_type": "code",
   "execution_count": null,
   "metadata": {
    "colab": {
     "base_uri": "https://localhost:8080/",
     "height": 54
    },
    "colab_type": "code",
    "id": "mYjt3lVhpwrr",
    "outputId": "d1983578-de43-4e9a-c7c9-f124447a5a43"
   },
   "outputs": [],
   "source": [
    "model=model_architecture(data_train_.shape[1:])"
   ]
  },
  {
   "cell_type": "code",
   "execution_count": null,
   "metadata": {
    "colab": {
     "base_uri": "https://localhost:8080/",
     "height": 1000
    },
    "colab_type": "code",
    "id": "7SnC1Y5WswFn",
    "outputId": "6d079578-a5bb-4cef-dfa1-10d6469fa255"
   },
   "outputs": [],
   "source": [
    "model.summary()\n"
   ]
  },
  {
   "cell_type": "code",
   "execution_count": null,
   "metadata": {
    "colab": {},
    "colab_type": "code",
    "id": "-tLvd50kp-GQ"
   },
   "outputs": [],
   "source": [
    "# plotting the model for better understanding\n",
    "plot_model(model,\"model_architecture.png\",show_shapes=True)"
   ]
  },
  {
   "cell_type": "code",
   "execution_count": null,
   "metadata": {
    "colab": {},
    "colab_type": "code",
    "id": "yVxCphX-qTVP"
   },
   "outputs": [],
   "source": [
    "# defining callbacks and chekpoints\n",
    "filepath=\"checkpoints\"\n",
    "check_points=tf.keras.callbacks.ModelCheckpoint(\n",
    "    filepath=filepath,\n",
    "    verbose=1,\n",
    "    save_weights_only=True,\n",
    "    save_best_only=True,\n",
    "    epochs=5\n",
    ")"
   ]
  },
  {
   "cell_type": "code",
   "execution_count": null,
   "metadata": {
    "colab": {},
    "colab_type": "code",
    "id": "ESS_s9d6sGaE"
   },
   "outputs": [],
   "source": [
    "# eaRLY stopping\n",
    "early_stop=tf.keras.callbacks.EarlyStopping(\n",
    "    monitor=\"loss\",\n",
    "    patience=3\n",
    "\n",
    ")"
   ]
  },
  {
   "cell_type": "code",
   "execution_count": null,
   "metadata": {
    "colab": {},
    "colab_type": "code",
    "id": "FDZ6-PX5sZKH"
   },
   "outputs": [],
   "source": [
    "# tensorboard callbacks\n",
    "tens_board=tf.keras.callbacks.TensorBoard(\n",
    "    log_dir=\"logs\",\n",
    "    update_freq=5,\n",
    ")"
   ]
  },
  {
   "cell_type": "code",
   "execution_count": null,
   "metadata": {
    "colab": {},
    "colab_type": "code",
    "id": "Aq_UlzyWsuLg"
   },
   "outputs": [],
   "source": [
    "seed=10\n",
    "dicts=dict(rotation_range=0.2,\n",
    "           rescale=1./255,\n",
    "                    width_shift_range=0.05,\n",
    "                    height_shift_range=0.05,\n",
    "                    zoom_range=0.05,\n",
    "                    horizontal_flip=True,\n",
    "                    fill_mode='nearest')\n",
    "\n",
    "train_image_gen=ImageDataGenerator(**dicts)\n",
    "train_image_datagen=train_image_gen.flow(data_train_,seed=seed,batch_size=2)\n",
    "\n",
    "mask_image_gen=ImageDataGenerator(**dicts)\n",
    "mask_image_datagen=mask_image_gen.flow(data_labels_,seed=seed,batch_size=2)\n",
    "# datagens here\n",
    "final_gen=zip(train_image_datagen,mask_image_datagen)\n"
   ]
  },
  {
   "cell_type": "code",
   "execution_count": null,
   "metadata": {
    "colab": {},
    "colab_type": "code",
    "id": "ZnqVCz_2s-xS"
   },
   "outputs": [],
   "source": [
    "model.fit(data_train_,data_labels_,epochs=30,callbacks=[check_points,tens_board],batch_size=16)\n",
    "# model.fit_generator(final_gen,epochs=30,callbacks=[check_points,tens_board])"
   ]
  },
  {
   "cell_type": "code",
   "execution_count": null,
   "metadata": {
    "colab": {},
    "colab_type": "code",
    "id": "bgzPv5ZR4EO2"
   },
   "outputs": [],
   "source": [
    "import imageio"
   ]
  },
  {
   "cell_type": "code",
   "execution_count": null,
   "metadata": {
    "colab": {
     "base_uri": "https://localhost:8080/",
     "height": 35
    },
    "colab_type": "code",
    "id": "9oFOUgS2EolT",
    "outputId": "92bf4878-3959-42c3-f9dd-b5a0284b278b"
   },
   "outputs": [],
   "source": [
    "testing=[]\n",
    "train_data=\"./data-science-bowl-2018/stage1_test/\"\n",
    "for i in tqdm(os.listdir(train_data)):\n",
    "    for k in os.listdir(os.path.join(train_data,i+\"/images/\")):\n",
    "        testing.append(resize(imread(os.path.join(os.path.join(train_data,i+\"/images/\"),k),as_gray=True),output_shape=(256,256,1)))"
   ]
  },
  {
   "cell_type": "code",
   "execution_count": null,
   "metadata": {
    "colab": {
     "base_uri": "https://localhost:8080/",
     "height": 287
    },
    "colab_type": "code",
    "id": "idv5_RN2Gz90",
    "outputId": "6ae0bfc7-6795-4bd8-d9ca-1ed2f644e256"
   },
   "outputs": [],
   "source": [
    "# testing contains the testing data set\n",
    "plt.imshow(testing[10].reshape(256,256))"
   ]
  },
  {
   "cell_type": "code",
   "execution_count": null,
   "metadata": {
    "colab": {
     "base_uri": "https://localhost:8080/",
     "height": 287
    },
    "colab_type": "code",
    "id": "5143NxgFHIXl",
    "outputId": "5c61456e-b730-4936-cdd1-3c69a33f8ffc"
   },
   "outputs": [],
   "source": [
    "# ans contains the predictions and evaluation of the testing dataset\n",
    "plt.imshow(ans[10].reshape(256,256))"
   ]
  },
  {
   "cell_type": "code",
   "execution_count": null,
   "metadata": {
    "colab": {},
    "colab_type": "code",
    "id": "szz-HljpFeL0"
   },
   "outputs": [],
   "source": [
    "# generating gif of the test data\n",
    "with imageio.get_writer('./images_testing.gif', mode='I',duration=0.5) as writer:\n",
    "    for filename in testing:\n",
    "        writer.append_data(filename)"
   ]
  },
  {
   "cell_type": "code",
   "execution_count": null,
   "metadata": {
    "colab": {},
    "colab_type": "code",
    "id": "SfAj8JBuF5go"
   },
   "outputs": [],
   "source": [
    "# generating gif of the test results\n",
    "with imageio.get_writer('./masking_images_testing.gif', mode='I',duration=0.5) as writer:\n",
    "    for filename in ans:\n",
    "        writer.append_data(filename)"
   ]
  }
 ],
 "metadata": {
  "accelerator": "GPU",
  "colab": {
   "collapsed_sections": [],
   "name": "unnet.ipynb",
   "provenance": []
  },
  "kernelspec": {
   "display_name": "Python 3",
   "language": "python",
   "name": "python3"
  },
  "language_info": {
   "codemirror_mode": {
    "name": "ipython",
    "version": 3
   },
   "file_extension": ".py",
   "mimetype": "text/x-python",
   "name": "python",
   "nbconvert_exporter": "python",
   "pygments_lexer": "ipython3",
   "version": "3.8.2"
  }
 },
 "nbformat": 4,
 "nbformat_minor": 4
}
